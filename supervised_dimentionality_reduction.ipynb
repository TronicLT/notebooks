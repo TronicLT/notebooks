{
 "cells": [
  {
   "cell_type": "markdown",
   "metadata": {},
   "source": [
    "# Spervised Dimentionality Reduction\n"
   ]
  },
  {
   "cell_type": "code",
   "execution_count": 1,
   "metadata": {
    "slideshow": {
     "slide_type": "skip"
    }
   },
   "outputs": [
    {
     "data": {
      "application/javascript": [
       "IPython.OutputArea.auto_scroll_threshold = 9999;"
      ],
      "text/plain": [
       "<IPython.core.display.Javascript object>"
      ]
     },
     "metadata": {},
     "output_type": "display_data"
    }
   ],
   "source": [
    "%%javascript\n",
    "IPython.OutputArea.auto_scroll_threshold = 9999;"
   ]
  },
  {
   "cell_type": "code",
   "execution_count": 2,
   "metadata": {},
   "outputs": [
    {
     "data": {
      "text/html": [
       "<style>\n",
       "    @font-face {\n",
       "        /*font-family: \"Computer Modern\";*/\n",
       "        src: url('http://mirrors.ctan.org/fonts/cm-unicode/fonts/otf/cmunss.otf');\n",
       "    }\n",
       "\n",
       "    li {\n",
       "\n",
       "        margin-bottom: 1em;\n",
       "        text-indent:5px;\n",
       "    }\n",
       "\n",
       "    img{\n",
       "        align: \"center\";\n",
       "        height: 404px;\n",
       "        width: 328px;\n",
       "    }\n",
       "\n",
       "    div.cell{\n",
       "        width:100%;\n",
       "        margin-left:1%;\n",
       "        margin-right:auto;\n",
       "    }\n",
       "\n",
       "\n",
       "</style>\n",
       "<script>\n",
       "    MathJax.Hub.Config({\n",
       "                        TeX: {\n",
       "                           extensions: [\"AMSmath.js\"]\n",
       "                           },\n",
       "                tex2jax: {\n",
       "                    inlineMath: [ ['$','$'], [\"\\\\(\",\"\\\\)\"] ],\n",
       "                    displayMath: [ ['$$','$$'], [\"\\\\[\",\"\\\\]\"] ]\n",
       "                },\n",
       "                displayAlign: 'center', // Change this to 'center' to center equations.\n",
       "                \"HTML-CSS\": {\n",
       "                    styles: {'.MathJax_Display': {\"margin\": 4}}\n",
       "                }\n",
       "        });\n",
       "</script>"
      ],
      "text/plain": [
       "<IPython.core.display.HTML object>"
      ]
     },
     "execution_count": 2,
     "metadata": {},
     "output_type": "execute_result"
    }
   ],
   "source": [
    "from IPython.core.display import HTML\n",
    "def css_styling():\n",
    "    styles = open(\"styles/custom.css\", \"r\").read()\n",
    "    return HTML(styles)\n",
    "css_styling()"
   ]
  },
  {
   "cell_type": "code",
   "execution_count": 3,
   "metadata": {
    "slideshow": {
     "slide_type": "skip"
    }
   },
   "outputs": [
    {
     "name": "stderr",
     "output_type": "stream",
     "text": [
      "C:\\Anaconda3\\lib\\site-packages\\sklearn\\cross_validation.py:44: DeprecationWarning: This module was deprecated in version 0.18 in favor of the model_selection module into which all the refactored classes and functions are moved. Also note that the interface of the new CV iterators are different from that of this module. This module will be removed in 0.20.\n",
      "  \"This module will be removed in 0.20.\", DeprecationWarning)\n"
     ]
    }
   ],
   "source": [
    "#%pylab inline\n",
    "import numpy\n",
    "import pandas\n",
    "import pylab\n",
    "\n",
    "#sklearn\n",
    "from sklearn.base import BaseEstimator, TransformerMixin\n",
    "from sklearn.utils import check_array\n",
    "from sklearn.utils.validation import check_is_fitted\n",
    "from sklearn.preprocessing import LabelEncoder, StandardScaler\n",
    "from sklearn.datasets import load_iris\n",
    "from sklearn.decomposition import PCA\n",
    "from sklearn.neighbors import KNeighborsClassifier\n",
    "from sklearn.cross_validation import cross_val_score\n",
    "\n",
    "from sklearn.pipeline import Pipeline\n",
    "\n",
    "#scipy\n",
    "import scipy.linalg as alg"
   ]
  },
  {
   "cell_type": "code",
   "execution_count": 4,
   "metadata": {
    "slideshow": {
     "slide_type": "skip"
    }
   },
   "outputs": [],
   "source": [
    "# Load Iris data\n",
    "iris = load_iris()\n",
    "X_iris = iris.data\n",
    "y_iris = iris.target\n",
    "\n",
    "# load parkinsons data\n",
    "data = pandas.read_csv('data/parkinsons.data.txt', sep=\",\", index_col='name')\n",
    "y_pak = numpy.asarray(LabelEncoder().fit_transform(data['status']))\n",
    "X_pak = data.drop('status', axis=1).values\n",
    "\n",
    "# load wine data\n",
    "data = pandas.read_csv('data/wine.data.txt', sep=\",\")\n",
    "y_wine = numpy.asarray(LabelEncoder().fit_transform(data.iloc[:,0]))\n",
    "X_wine = data.iloc[:, 1:].values"
   ]
  },
  {
   "cell_type": "markdown",
   "metadata": {
    "slideshow": {
     "slide_type": "slide"
    }
   },
   "source": [
    "<h2>Data preprocessing, why?</h2>\n",
    "<ul>\n",
    "    <li><b>Problem: </b>Features with different dynamic ranges, results in features with large values having a larger influence in the classifier's cost function than features with small values.</li>\n",
    "    <li><b>Solution: </b>Normalise features for best performance</li>\n",
    "</ul>"
   ]
  },
  {
   "cell_type": "markdown",
   "metadata": {
    "slideshow": {
     "slide_type": "fragment"
    }
   },
   "source": [
    "<ul>\n",
    "    <li><h3>Normalisation methods</h3></li>\n",
    "<ul>\n",
    "    <li><h4>Standardisation</h4></li>\n",
    "    <ul>\n",
    "        <li>Rescale features to have $\\mu=0$ and $\\sigma=1$</li>\n",
    "        $$X_{new} = \\frac{X-\\mu}{\\sigma}$$\n",
    "        <li><b>N.B</b> Use the training data  $\\mu$ and $\\sigma$ to rescale the test and validation data</li>\n",
    "    </ul>\n",
    "</ul>\n",
    "</ul>"
   ]
  },
  {
   "cell_type": "markdown",
   "metadata": {
    "slideshow": {
     "slide_type": "fragment"
    }
   },
   "source": [
    "<ul>\n",
    "<ul>\n",
    "    <li><h4>Rescaling</h4></li>\n",
    "    <ul>\n",
    "        <li>Rescale features to unit range</li>\n",
    "        $$X_{new} = \\frac{X-X_\\min}{X_\\max-X_\\min}$$\n",
    "    </ul>\n",
    "</ul>\n",
    "</ul>"
   ]
  },
  {
   "cell_type": "markdown",
   "metadata": {
    "slideshow": {
     "slide_type": "slide"
    }
   },
   "source": [
    "<h2>Discriminant analysis</h2>\n",
    "<ul>\n",
    "    <li>Is a supervised method for dimentionality reduction</li>\n",
    "    <li>The aim is to project data on to directions that are efficient for discrimination</li>\n",
    "    <li>Examples are LDA and MDA/Canonical variates</li>\n",
    "    <li>LDA is is a method used to find a linear combination of features that characterizes or separates two classes</li>\n",
    "    <li>MDA is just LDA for multiclass problems</li>\n",
    "    <li>MDA generalises to LDA when the number of classes is two</li>\n",
    "</ul>"
   ]
  },
  {
   "cell_type": "markdown",
   "metadata": {
    "slideshow": {
     "slide_type": "slide"
    }
   },
   "source": [
    "<h2>Discriminant analysis</h2>\n",
    "<h3> LDA analysis algorithm steps:</h3>\n",
    "<ol>\n",
    "<li> Compute the mean vectors of each feature for each class in the data.</li>\n",
    "<li>Compute the scatter matrices $\\mathbf{S}_b$ and $\\mathbf{S}_w$</li>\n",
    "<li>Compute the eigenvectors $\\mathbf{e_1, e_2, ..., e_d}$ and corresponding eigenvalues $\\lambda_1, \\lambda_2, ..., \\lambda_3$ for the scatter matrices</li>\n",
    "<li>Sort the eigenvectors in decreasing order of the eigenvalues</li>\n",
    "<li>Choose $C-1$ eigenvectors with the largest eigenvalues to form a $d\\times C-1$ dimensional matrix $W$</li>\n",
    "<li>Apply $X_{new} = X\\times W$ to get the dimentionality reduced data</li>\n",
    "</ol>\n"
   ]
  },
  {
   "cell_type": "markdown",
   "metadata": {
    "slideshow": {
     "slide_type": "slide"
    }
   },
   "source": [
    "<h2>Discriminant analysis</h2>\n",
    "<h3> Scatter matrices</h3>\n",
    "<ul>\n",
    "    <li><h4>The within-class scatter ($\\mathbf{S}_w$)</h4></li>\n",
    "        <ul>\n",
    "            <li>The within-class scatter $\\mathbf{S}_w$ is defined by,\n",
    "            $$\\mathbf{S}_w = \\sum_{i=1}^C \\mathbf{S}_i$$ where\n",
    "            $$\\mathbf{S}_i = \\sum_{\\mathbf{x}\\in D_i}(\\mathbf{x}-\\mu_i)(\\mathbf{x}-\\mu_i)^\\top$$ which is the scatter matrix for every class and $\\mu_i$ is the mean feature vector of class $i$  <a href=\"http://eu.wiley.com/WileyCDA/WileyTitle/productCd-0471056693.html\"> Duda2001</a>. </li>\n",
    "            <li>The trace $\\texttt{Trace}\\{\\mathbf{S}_w\\}$ measures the average, over all classes, variance of the feature.</li>\n",
    "        </ul>\n",
    "</ul>\n"
   ]
  },
  {
   "cell_type": "markdown",
   "metadata": {
    "slideshow": {
     "slide_type": "fragment"
    }
   },
   "source": [
    "<ul>\n",
    "    <li><h4>The between-class scatter ($\\mathbf{S}_b$)</h4></li>\n",
    "        <ul>\n",
    "            <li>The between-class scatter $\\mathbf{S}_b$ is defined by,\n",
    "            $$\\mathbf{S}_b = \\sum_{i=1}^C N_i(\\mu_i-\\mu)(\\mu_i-\\mu)^\\top$$ where $\\mu$ is the overall mean of the datatset, $\\mu_i$ is the mean feature vector of class $i$ and $N_i$ is number of samples in class $i$ <a href=\"http://eu.wiley.com/WileyCDA/WileyTitle/productCd-0471056693.html\"> Duda2001</a></li>\n",
    "            <li>The trace $\\texttt{Trace}\\{\\mathbf{S}_b\\}$ measures the average (over all classes) distance of the mean of each individual class from the respective global value.</li>\n",
    "</ul>"
   ]
  },
  {
   "cell_type": "markdown",
   "metadata": {
    "slideshow": {
     "slide_type": "subslide"
    }
   },
   "source": [
    "<h3> Scatter matrices</h3>\n",
    "<ul>\n",
    "    <li><h4>The mixture scatter matrix ($\\mathbf{S}_m$)</h4>\n",
    "    <ul>\n",
    "        <li>The mixture scatter matrix $\\mathbf{S}_m$ is given by,</li>\n",
    "        $$\\mathbf{S}_m = \\mathbf{S}_w + \\mathbf{S}_b$$\n",
    "        <li>The trace $\\texttt{Trace}\\{\\mathbf{S}_m\\}$ is the sum of variances of the features around their respective global mean</li>\n",
    "    </ul>\n",
    "</ul>"
   ]
  },
  {
   "cell_type": "code",
   "execution_count": 12,
   "metadata": {
    "collapsed": true,
    "slideshow": {
     "slide_type": "skip"
    }
   },
   "outputs": [],
   "source": [
    "def partition_data_per_classes(X, y):\n",
    "    \"\"\"Groups data based on class label\n",
    "    \n",
    "    Parameters\n",
    "    ----------\n",
    "    X : {array-like}, shape (n_samples, n_features)\n",
    "        Data, where n_samples is the number of samples\n",
    "        and n_features is the number of features.\n",
    "\n",
    "    y: {array-like}, shape (n_samples, )\n",
    "        Contains the target/classes for the training data X\n",
    "\n",
    "    Returns\n",
    "    -------\n",
    "    x_sorted : dict of arrays with class label as keys    \n",
    "    \"\"\"\n",
    "    x_sorted = dict()\n",
    "    classes = numpy.unique(y)\n",
    "    # Get class indices\n",
    "    for lbl in classes:\n",
    "        index, = numpy.where(y == lbl)\n",
    "        x_sorted[lbl] = X[index, :]\n",
    "\n",
    "    return x_sorted"
   ]
  },
  {
   "cell_type": "code",
   "execution_count": 13,
   "metadata": {
    "collapsed": true,
    "slideshow": {
     "slide_type": "slide"
    }
   },
   "outputs": [],
   "source": [
    "def scatter_matrix(X, y, gamma=0.):\n",
    "    \"\"\"Calculate the scatter matrices\n",
    "    \n",
    "    Parameters\n",
    "    ----------\n",
    "    X : {array-like}, shape (n_samples, n_features)\n",
    "        Data, where n_samples is the number of samples\n",
    "        and n_features is the number of features.\n",
    "\n",
    "    y: {array-like}, shape (n_samples, )\n",
    "        Contains the target/classes for the training data X\n",
    "\n",
    "    gamma: a float object, (Default: 0)\n",
    "        Regularisation parameter\n",
    "        \n",
    "    Returns\n",
    "    -------\n",
    "    output: A tuple object, shape(2,)\n",
    "        The within and between class scatter matrices \n",
    "    \"\"\"\n",
    "    classes = numpy.unique(y)\n",
    "    n_samples, n_features = X.shape\n",
    "    data = partition_data_per_classes(X=X, y=y)\n",
    "    \n",
    "    # Compute the feature mean for each class\n",
    "    class_mean = numpy.zeros(shape=(len(classes), n_features), dtype='float32')\n",
    "    for i, lbl in enumerate(classes):\n",
    "        class_mean[i, :] = numpy.mean(data[lbl], axis=0)\n",
    "\n",
    "    # Data mean\n",
    "    data_mean = numpy.mean(class_mean, axis=0)\n",
    "\n",
    "    # Calculate the within class scatter\n",
    "    sw = numpy.zeros(shape=(n_features,), dtype='float32')\n",
    "    diag = numpy.zeros(shape=(n_features,), dtype='float32')\n",
    "\n",
    "    for i, lbl in enumerate(classes):\n",
    "        centered_data = data[lbl] - class_mean[i]\n",
    "        dot = numpy.dot(centered_data.T, centered_data)\n",
    "        diag = diag + numpy.diag(numpy.diag(dot))\n",
    "        sw = sw + data[lbl].shape[0] * dot\n",
    "\n",
    "    # Within class scatter regularisation\n",
    "    sw = (1 - gamma) * sw + diag\n",
    "\n",
    "    # Calculate the between class scatter\n",
    "    sb = numpy.zeros(shape=(n_features,), dtype='float32')\n",
    "    diag = numpy.zeros(shape=(n_features,), dtype='float32')\n",
    "\n",
    "    for i, lbl in enumerate(classes):\n",
    "        centered_data = class_mean[i] - data_mean\n",
    "        dot = numpy.outer(centered_data.T, centered_data)\n",
    "        diag = diag + numpy.diag(numpy.diag(dot))\n",
    "        sb = sb + data[lbl].shape[0] * dot\n",
    "\n",
    "    # Between class scatter regularisation\n",
    "    sb = (1 - gamma) * sb + diag\n",
    "    \n",
    "    return sw, sb"
   ]
  },
  {
   "cell_type": "markdown",
   "metadata": {
    "slideshow": {
     "slide_type": "slide"
    }
   },
   "source": [
    "<h2>Discriminant analysis</h2>\n",
    "<h3>Solving the eigen-value problem</h3>\n",
    "<ul>\n",
    "<li>LDA aims to find the projection matrix ${W}$, which maximises the ratio of the between-class scatter matrix to the within-class scatter matrix</li>\n",
    "<li> ${W}$ is derived from the first $C-1$ or $\\ell < d$  eigenvectors corresponding to the eigenvalues of the generalised eigenvalue problem $${S}_B{W} = \\lambda{S}_w{W}$$ which is only possible if the scatter matrices are invertible.</li>\n",
    "\n",
    "<li> Regularising the scatter matrices avoids the non-invertible matrix problem by adding a diagonal component to the scatter matrices <a href=\"http://eu.wiley.com/WileyCDA/WileyTitle/productCd-0471056693.html\"> Duda2001</a></li> $${S'} = {S+D}$$ is the matrix resulting from regularization, where ${S}'$ is the the regularised matrix, ${S}$ is the original scatter matrix ${S}_w$ or ${S}_B$ and $\\displaystyle{{D} = ({x}-\\mu_i)({x}-\\mu_i)^\\top}$ in case ${S}_B$ and ${D} = (\\mu-\\mu_i)(\\mu-\\mu_i)^\\top$ in case ${S}_w$.</li>\n",
    "\n",
    "<li> A whitening transform can be applied to the between-class scatter matrix, in order to further maximise the distances between the class means as follows, $${S''}_B = {S'}_B {VDV}^\\top$$\n",
    "where, ${S''}_B$ is the whitened between-class scatter matrix, ${S'}_B$ is the regularised between-class scatter matrix, ${V}$ are the eigenvectors of ${S'}_B$, and ${D}$ is the diagonal elements of the eigenvalues of ${S'}_B $.</li> \n",
    "\n",
    "<li>Finally to obtain the optimum ${W}$ projection matrix, the eigenvalue problem can be solved by, $${S''}_B {W} = \\lambda{S'}_w{W}$$</li>\n",
    "</ul>"
   ]
  },
  {
   "cell_type": "code",
   "execution_count": 14,
   "metadata": {
    "collapsed": true,
    "slideshow": {
     "slide_type": "slide"
    }
   },
   "outputs": [],
   "source": [
    "def lda_projection_matrix(sw, sb):\n",
    "    \"\"\"Compute LDA projection matrix from the scatter matrix\n",
    "    \n",
    "    Parameters\n",
    "    ----------\n",
    "    sw: {array-like}, shape (n_features, n_features)\n",
    "        The within class scatter\n",
    "        \n",
    "    sb: {array-like}, shape (n_features, n_features)\n",
    "        The between class scatter\n",
    "    Returns\n",
    "    -------\n",
    "    output - {array-like}, shape(n_features, n_features)\n",
    "        LDA projection matrix W\n",
    "    \"\"\"\n",
    "    # Whiten the between-class scatter in order to further maximise \n",
    "    # the distances between the class means.\n",
    "    lambda_, v = alg.eig(sb)\n",
    "    order = numpy.argsort(lambda_)[::-1]\n",
    "    lambda_ = lambda_[order]\n",
    "    v = v[:, order]\n",
    "    p = numpy.dot(numpy.dot(v, numpy.diag(lambda_)), v.T)\n",
    "    sb = numpy.dot(sb, p)\n",
    "\n",
    "    # Compute the projection matrix\n",
    "    lambda_, V = alg.eig(sb, sw)\n",
    "    order = numpy.argsort(lambda_)[::-1]\n",
    "    W = V[:, order]\n",
    "\n",
    "    return numpy.real(W)"
   ]
  },
  {
   "cell_type": "markdown",
   "metadata": {
    "slideshow": {
     "slide_type": "slide"
    }
   },
   "source": [
    "<h2>Class separabiility</h2>\n",
    "<ul>\n",
    "    <li><h3>Fisher's discriminant ratio</h3></li>\n",
    "        <ul>\n",
    "            <li> Fisher’s discriminant ratio (`FDR`) is commonly employed to quantify the discriminatory power of individual features between two equiprobable classes.</li>\n",
    "            <li> For the multi-class problem the $m$-th feature $FDR_m$ is given by, $$FDR_m=\\sum_i^C\\sum_{j\\neq i}^C \\frac{\\left(\\mu_i-\\mu_j\\right)^2}{\\sigma_i+\\sigma_j}$$where where $i, j$ refer to the mean and variance corresponding to the $m$-th feature classes $C_i, C_j$ respectively. </li>\n",
    "            <li>Features having large differences between the means of the classes and small variances in each class, will have high FDR values</li>            \n",
    "        </ul>\n",
    "</ul>"
   ]
  },
  {
   "cell_type": "code",
   "execution_count": 15,
   "metadata": {
    "collapsed": true,
    "slideshow": {
     "slide_type": "slide"
    }
   },
   "outputs": [],
   "source": [
    "def fdr(X, y):\n",
    "    \"\"\"Fisher discriminant ratio\n",
    "    \n",
    "    Parameters\n",
    "    ----------\n",
    "    X : {array-like}, shape (n_samples, n_features)\n",
    "        Data, where n_samples is the number of samples\n",
    "        and n_features is the number of features.\n",
    "\n",
    "    y: {array-like}, shape (n_samples, )\n",
    "        Contains the target/classes for the training data X\n",
    "\n",
    "    Returns\n",
    "    -------\n",
    "    fdr : {array-like}, shape(n) with class label as keys    \n",
    "    \"\"\"\n",
    "    classes = numpy.unique(y)\n",
    "    n_samples, n_features = X.shape\n",
    "    data = partition_data_per_classes(X=X, y=y)\n",
    "    \n",
    "    # Compute the feature mean and variance for each class\n",
    "    class_means = numpy.zeros(shape=(len(classes), n_features), dtype='float32')\n",
    "    class_variance = numpy.zeros(shape=(len(classes), n_features), dtype='float32')\n",
    "    \n",
    "    # Compute the class and variaces for each class\n",
    "    for i, lbl in enumerate(classes):\n",
    "        class_means[i, :] = numpy.mean(data[lbl], axis=0)\n",
    "        class_variance[i, :] = numpy.var(data[lbl], axis=0)\n",
    "        \n",
    "    # Compute FDR\n",
    "    fdr = numpy.zeros(shape=(n_features,), dtype='float32')\n",
    "    \n",
    "    # For each feature\n",
    "    for m in range(n_features):        \n",
    "        # For each class\n",
    "        fdr_class =  numpy.zeros(shape=(len(classes),), dtype='float32')\n",
    "        for i in range(len(classes)):\n",
    "            tmp_fdr = 0.\n",
    "            for j in range(len(classes)):                \n",
    "                if i != j:\n",
    "                    mn = (class_means[i, m] - class_means[j, m])**2 \n",
    "                    var= class_variance[i, m] + class_variance[j, m]\n",
    "                    tmp_fdr = tmp_fdr + (mn / (var + 1e-16))\n",
    "            \n",
    "            fdr_class[i] = tmp_fdr\n",
    "            \n",
    "        fdr[m] = fdr_class.sum()\n",
    "                        \n",
    "    return fdr   "
   ]
  },
  {
   "cell_type": "markdown",
   "metadata": {
    "slideshow": {
     "slide_type": "slide"
    }
   },
   "source": [
    "<h2>Class separabiility</h2>\n",
    "<ul>\n",
    "    <li><h3>Scatter matrices based measures</h3></li>\n",
    "    <ul> \n",
    "        <li>$$J_1 = \\frac{\\texttt{trace}\\{\\mathbf{S}_m\\}}{\\texttt{trace}\\{\\mathbf{S}_w\\}}$$</li>\n",
    "        <ul>\n",
    "            <li>$J_1$ takes on large values when samples are well clustered around their mean (within each class) and the clusters of the different classes are well separated</li>\n",
    "        </ul>\n",
    "        <li>$$J_2 = \\vert\\mathbf{S}_w^{-1}\\mathbf{S}_w\\vert$$</li>\n",
    "        <ul>\n",
    "            <li>$J_2$ is propotional $J_1$</li>\n",
    "        </ul>\n",
    "        <li>$$J_3 = \\texttt{trace}\\{\\mathbf{S}_w^{-1}\\mathbf{S}_w\\}$$</li>\n",
    "        <ul>\n",
    "            <li>$J_3$ measures the overall separation of the classes</li>\n",
    "        </ul>\n",
    "    </ul>\n",
    "</ul>"
   ]
  },
  {
   "cell_type": "code",
   "execution_count": 16,
   "metadata": {
    "slideshow": {
     "slide_type": "fragment"
    }
   },
   "outputs": [],
   "source": [
    "def scatter_matrix_criterion(sw, sb):\n",
    "    \"\"\"Scatter matrix based criterion\n",
    "    \n",
    "    Parameters\n",
    "    ----------\n",
    "    sw: {array-like}, shape (n_features, n_features)\n",
    "        The within class scatter\n",
    "        \n",
    "    sb: {array-like}, shape (n_features, n_features)\n",
    "        The between class scatter\n",
    "    Returns\n",
    "    -------\n",
    "    output - tuple, shape(3,)\n",
    "        contains the J1, J2 and J3 scatter matrix measures\n",
    "    \"\"\"\n",
    "    # Calculate the criterion functions\n",
    "    j1 = numpy.trace(sb + sw) / numpy.trace(sw)\n",
    "    j2 = alg.det(numpy.dot(alg.inv(sw), sb + sw))\n",
    "    j3 = numpy.trace(numpy.dot(alg.inv(sw), sb))\n",
    "    return j1, j2, j3"
   ]
  },
  {
   "cell_type": "markdown",
   "metadata": {
    "slideshow": {
     "slide_type": "slide"
    }
   },
   "source": [
    "<h2>Putting it all together</h2>"
   ]
  },
  {
   "cell_type": "code",
   "execution_count": 17,
   "metadata": {
    "slideshow": {
     "slide_type": "fragment"
    }
   },
   "outputs": [],
   "source": [
    "class MDA(BaseEstimator, TransformerMixin):\n",
    "    \"\"\"Multiple Discriminant Analysis\n",
    "\n",
    "    MDA generalises Fisher’s method to projections of more than one dimension \n",
    "    and more than two classes. MDA results in a projection matrix from the \n",
    "    original feature vector to a lower dimensional space, wherein the distance\n",
    "    between features is maximally separated [1]. The MDA projection matrix is \n",
    "    computed based on the array containing the feature vector and the\n",
    "    corresponding class information.\n",
    "\n",
    "    Parameters\n",
    "    ----------\n",
    "    n_components: An int object, (Default: None)\n",
    "        Number of components to project the data (n_componets < num_features)\n",
    "    \n",
    "    gamma: A float object in the range [0, 1), (Default: 1e-10)\n",
    "        The within and between scatter regularisation parameter\n",
    "\n",
    "    Example\n",
    "    -------\n",
    "    >>> from sklearn.datasets import load_iris\n",
    "    >>> data = load_iris()\n",
    "    >>> mda = MDA()\n",
    "    >>> mda.fit(X=data.data, y=data.target)\n",
    "    MDA(gamma=1e-10)\n",
    "\n",
    "    Attributes\n",
    "    ----------\n",
    "    W_: {array-like}, shape (n_features, n_components)\n",
    "        The MDA transformation matrix\n",
    "\n",
    "    sw_: {array-like}, shape (n_features, n_features)\n",
    "        The within class scatter\n",
    "        \n",
    "    sb_: {array-like}, shape (n_features, n_features)\n",
    "        The between class scatter\n",
    "\n",
    "    References\n",
    "    ----------\n",
    "    [1] D. G. Duda, Richard O. and Hart, Peter E. and Stork, Pattern Classification.\n",
    "        New York, N.Y, USA: Wiley-Interscience, 2 ed., 2001\n",
    "    \"\"\"\n",
    "    def __init__(self, n_components=None, gamma=1e-10):\n",
    "        self.gamma = gamma\n",
    "        self.n_components = n_components\n",
    "\n",
    "    def fit_transform(self, X, y=None, **kwargs):\n",
    "        \"\"\"Fit the model with X and apply the dimensionality reduction on X.\n",
    "\n",
    "        Parameters\n",
    "        ----------\n",
    "        X : {array-like}, shape (n_samples, n_features)\n",
    "            Training data, where n_samples is the number of samples\n",
    "            and n_features is the number of features.\n",
    "\n",
    "        y: {array-like} shape (n_samples, )\n",
    "            Contains the target/classes for the training data X\n",
    "\n",
    "        Returns\n",
    "        -------\n",
    "        X_new : array-like, shape (n_samples, n_classes-1)\n",
    "\n",
    "        \"\"\"\n",
    "        self.fit(X, y)\n",
    "        return self.transform(X=X, y=y)\n",
    "\n",
    "    def fit(self, X, y):\n",
    "        \"\"\"Compute the mean and std to be used for later scaling.\n",
    "\n",
    "        Parameters\n",
    "        ----------\n",
    "        X : array-like or CSR matrix with shape [n_samples, n_features]\n",
    "            The data used to compute the mean and standard deviation\n",
    "            used for later scaling along the features axis.\n",
    "        \"\"\"\n",
    "        check_array(X)\n",
    "        if self.n_components is None or self.n_components >= X.shape[1]:\n",
    "            self.n_components = len(numpy.unique(y)) - 1\n",
    "            \n",
    "        self.sw_, self.sb_ = scatter_matrix(X=X, y=y, gamma=self.gamma)\n",
    "        self.W_ = lda_projection_matrix(sw=self.sw_, sb=self.sb_)[:, :self.n_components] \n",
    "\n",
    "        return self\n",
    "\n",
    "    def transform(self, X, y=None, copy=None):\n",
    "        \"\"\"Perform standardization by centering and scaling\n",
    "\n",
    "        Parameters\n",
    "        ----------\n",
    "        X : array-like with shape [n_samples, n_features]\n",
    "            The data used to scale along the features axis.\n",
    "\n",
    "        Returns:\n",
    "        output: array-like with shape [n_samples, n_classes-1]\n",
    "            The MDA transformed data\n",
    "        \"\"\"\n",
    "        check_array(X)\n",
    "        check_is_fitted(self, [\"W_\"])\n",
    "\n",
    "        return numpy.real(numpy.dot(X, self.W_))       "
   ]
  },
  {
   "cell_type": "code",
   "execution_count": 18,
   "metadata": {},
   "outputs": [],
   "source": [
    "# FDR bar plot ionsphere dataset\n",
    "fdr_wine = fdr(X=X_wine, y=y_wine)\n",
    "pylab.figure()\n",
    "pylab.grid('on')\n",
    "pylab.bar(numpy.arange(len(fdr_wine)), fdr_wine)\n",
    "pylab.title(\"Wine FDR feature values\")\n",
    "pylab.xlabel(\"Feature, #\")\n",
    "pylab.ylabel(\"FDR value, #\")\n",
    "pylab.draw()"
   ]
  },
  {
   "cell_type": "code",
   "execution_count": 19,
   "metadata": {},
   "outputs": [],
   "source": [
    "# FDR bar plot ionsphere dataset\n",
    "fdr_pak = fdr(X=X_pak, y=y_pak)\n",
    "pylab.figure()\n",
    "pylab.grid('on')\n",
    "pylab.bar(numpy.arange(len(fdr_pak)), fdr_pak)\n",
    "pylab.title(\"Parkinson's FDR feature values\")\n",
    "pylab.xlabel(\"Feature, #\")\n",
    "pylab.ylabel(\"FDR value, #\")\n",
    "pylab.draw()"
   ]
  },
  {
   "cell_type": "code",
   "execution_count": 20,
   "metadata": {},
   "outputs": [
    {
     "data": {
      "image/png": "[encoded data removed]",
      "text/plain": [
       "<matplotlib.figure.Figure at 0x1b66ee48>"
      ]
     },
     "metadata": {},
     "output_type": "display_data"
    },
    {
     "data": {
      "image/png": "[encoded data removed]",
      "text/plain": [
       "<matplotlib.figure.Figure at 0x6598dd8>"
      ]
     },
     "metadata": {},
     "output_type": "display_data"
    }
   ],
   "source": [
    "pylab.show()"
   ]
  },
  {
   "cell_type": "code",
   "execution_count": 22,
   "metadata": {},
   "outputs": [
    {
     "name": "stdout",
     "output_type": "stream",
     "text": [
      "Wine datasets scatter criterion values: (J1, J2, J3):  (1.0384001319944802, 1.2304121041955283, 0.21926069815839544)\n"
     ]
    }
   ],
   "source": [
    "sw, sb = scatter_matrix(X_wine, y_wine)\n",
    "print(\"Wine datasets scatter criterion values: (J1, J2, J3): \", scatter_matrix_criterion(sw, sb))"
   ]
  },
  {
   "cell_type": "code",
   "execution_count": 23,
   "metadata": {},
   "outputs": [
    {
     "name": "stdout",
     "output_type": "stream",
     "text": [
      "Parkinson's datasets scatter criterion values: (J1, J2, J3):  (1.0008021689311137, 1.0210155747245215, 0.020868355561958023)\n"
     ]
    }
   ],
   "source": [
    "sw, sb = scatter_matrix(X_pak, y_pak)\n",
    "print (\"Parkinson's datasets scatter criterion values: (J1, J2, J3): \", scatter_matrix_criterion(sw, sb))"
   ]
  },
  {
   "cell_type": "markdown",
   "metadata": {},
   "source": [
    "## Class Separability"
   ]
  },
  {
   "cell_type": "code",
   "execution_count": 24,
   "metadata": {},
   "outputs": [],
   "source": [
    "# LDA PLOTS\n",
    "pylab.figure()\n",
    "X_lda = MDA().fit_transform(X_iris, y_iris)\n",
    "for c, m,i, target_name in zip(\"rgb\", ('^', 's', 'o'), [0, 1, 2], iris.target_names):\n",
    "    pylab.scatter(X_lda[y_iris == i, 0], X_lda[y_iris == i, 1], c=c, marker=m, label=target_name)\n",
    "\n",
    "pylab.grid('on')\n",
    "pylab.legend()\n",
    "pylab.xlabel('LD1')\n",
    "pylab.ylabel('LD2')\n",
    "pylab.title('LDA of IRIS dataset')\n",
    "pylab.draw()"
   ]
  },
  {
   "cell_type": "code",
   "execution_count": 25,
   "metadata": {},
   "outputs": [],
   "source": [
    "pca = PCA(n_components=2)\n",
    "X_pca = pca.fit(X_iris).transform(X_iris)\n",
    "\n",
    "pylab.figure()\n",
    "for c, m, i, target_name in zip(\"rgb\", ('^', 's', 'o'), [0, 1, 2], iris.target_names):\n",
    "    pylab.scatter(X_pca[y_iris == i, 0], X_pca[y_iris == i, 1], c=c, marker=m, label=target_name)\n",
    "\n",
    "pylab.grid('on')\n",
    "pylab.legend()\n",
    "pylab.xlabel('PC1')\n",
    "pylab.ylabel('PC2')\n",
    "pylab.title('PCA of IRIS dataset')\n",
    "pylab.draw()"
   ]
  },
  {
   "cell_type": "code",
   "execution_count": 26,
   "metadata": {},
   "outputs": [
    {
     "data": {
      "image/png": "[encoded data removed]",
      "text/plain": [
       "<matplotlib.figure.Figure at 0x6660d30>"
      ]
     },
     "metadata": {},
     "output_type": "display_data"
    },
    {
     "data": {
      "image/png": "[encoded data removed]",
      "text/plain": [
       "<matplotlib.figure.Figure at 0x669fa20>"
      ]
     },
     "metadata": {},
     "output_type": "display_data"
    }
   ],
   "source": [
    "pylab.show()"
   ]
  },
  {
   "cell_type": "markdown",
   "metadata": {},
   "source": [
    "## Classification perfomance"
   ]
  },
  {
   "cell_type": "markdown",
   "metadata": {},
   "source": [
    "### With standardisation"
   ]
  },
  {
   "cell_type": "code",
   "execution_count": 28,
   "metadata": {},
   "outputs": [
    {
     "name": "stdout",
     "output_type": "stream",
     "text": [
      "LDA-2 Wine: [0.94736842 0.94444444 1.         0.94444444 1.         0.94444444\n",
      " 1.         1.         1.         1.        ]\n"
     ]
    }
   ],
   "source": [
    "normalise = StandardScaler()\n",
    "classifier = KNeighborsClassifier(n_neighbors=15, algorithm='ball_tree')\n",
    "lda = MDA(n_components=2)\n",
    "classifier_lda_w = Pipeline(steps=[('normalise', normalise), ('lda', lda) , ('k-nn', classifier)])\n",
    "\n",
    "print(\"LDA-2 Wine:\", cross_val_score(classifier_lda_w, X=X_wine, y=y_wine, cv=10))"
   ]
  },
  {
   "cell_type": "code",
   "execution_count": 29,
   "metadata": {},
   "outputs": [
    {
     "name": "stdout",
     "output_type": "stream",
     "text": [
      "Original wine: [0.94736842 0.94444444 1.         0.94444444 1.         0.88888889\n",
      " 1.         1.         0.9375     1.        ]\n"
     ]
    }
   ],
   "source": [
    "classifier_without_w = Pipeline(steps=[('normalise', normalise), ('k-nn', classifier)])\n",
    "print(\"Original wine:\", cross_val_score(classifier_without_w, X=X_wine, y=y_wine, cv=10))"
   ]
  },
  {
   "cell_type": "code",
   "execution_count": 30,
   "metadata": {},
   "outputs": [
    {
     "name": "stdout",
     "output_type": "stream",
     "text": [
      "PCA-2 wine [0.94736842 0.94444444 1.         0.94444444 1.         0.94444444\n",
      " 0.94444444 1.         0.9375     1.        ]\n"
     ]
    }
   ],
   "source": [
    "pca = PCA(n_components=2)\n",
    "classifier_pca_w = Pipeline(steps=[('normalise', normalise), ('pca', pca) , ('k-nn', classifier)])\n",
    "print(\"PCA-2 wine\", cross_val_score(classifier_pca_w, X=X_wine, y=y_wine, cv=10))"
   ]
  },
  {
   "cell_type": "markdown",
   "metadata": {},
   "source": [
    "### Without sdandardisation"
   ]
  },
  {
   "cell_type": "code",
   "execution_count": 33,
   "metadata": {},
   "outputs": [
    {
     "name": "stdout",
     "output_type": "stream",
     "text": [
      "LDA-2 wine [0.94736842 0.94444444 1.         0.94444444 1.         0.94444444\n",
      " 1.         1.         0.9375     1.        ]\n"
     ]
    }
   ],
   "source": [
    "classifier_lda_nw = Pipeline(steps=[('lda', lda) , ('k-nn', classifier)])\n",
    "print(\"LDA-2 wine\", cross_val_score(classifier_lda_nw, X=X_wine, y=y_wine, cv=10))"
   ]
  },
  {
   "cell_type": "code",
   "execution_count": 23,
   "metadata": {},
   "outputs": [
    {
     "name": "stdout",
     "output_type": "stream",
     "text": [
      "PCA-2 wine 0.712975146199\n"
     ]
    }
   ],
   "source": [
    "classifier_pca_nw = Pipeline(steps=[('pca', pca), ('k-nn', classifier)])\n",
    "print \"PCA-2 wine\", cross_val_score(classifier_pca_nw, X=X_wine, y=y_wine, cv=10).mean()"
   ]
  },
  {
   "cell_type": "code",
   "execution_count": 24,
   "metadata": {},
   "outputs": [
    {
     "name": "stdout",
     "output_type": "stream",
     "text": [
      "Original wine 0.718530701754\n"
     ]
    }
   ],
   "source": [
    "classifier_without_nw = Pipeline(steps=[('k-nn', classifier)])\n",
    "print \"Original wine\", cross_val_score(classifier_without_nw, X=X_wine, y=y_wine, cv=10).mean()"
   ]
  },
  {
   "cell_type": "markdown",
   "metadata": {
    "collapsed": true
   },
   "source": [
    "##Conclusion\n"
   ]
  },
  {
   "cell_type": "markdown",
   "metadata": {},
   "source": [
    "1. Normalise your data\n",
    "2. Use LDA when FDR ratio bween your feature is significantly different\n",
    "3. Choose your features well\n",
    "4. LDA performs a form of data standardisation"
   ]
  },
  {
   "cell_type": "code",
   "execution_count": null,
   "metadata": {
    "collapsed": true
   },
   "outputs": [],
   "source": []
  }
 ],
 "metadata": {
  "kernelspec": {
   "display_name": "Python 3",
   "language": "python",
   "name": "python3"
  },
  "language_info": {
   "codemirror_mode": {
    "name": "ipython",
    "version": 3
   },
   "file_extension": ".py",
   "mimetype": "text/x-python",
   "name": "python",
   "nbconvert_exporter": "python",
   "pygments_lexer": "ipython3",
   "version": "3.5.2"
  }
 },
 "nbformat": 4,
 "nbformat_minor": 1
}
