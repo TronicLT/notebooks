{
 "cells": [
  {
   "cell_type": "markdown",
   "metadata": {},
   "source": [
    "# [Action bank](http://www.cse.buffalo.edu/~jcorso/r/actionbank/) evaluation on the [UCF101](http://crcv.ucf.edu/data/UCF101.php) dataset"
   ]
  },
  {
   "cell_type": "code",
   "execution_count": 1,
   "metadata": {},
   "outputs": [],
   "source": [
    "import sys\n",
    "import os\n",
    "import time\n",
    "# Add code dir to PYTHONPATH          \n",
    "sys.path.append(\"../../3rdparty/action_bank/base\")\n",
    "sys.path.append(\"../scripts\")"
   ]
  },
  {
   "cell_type": "code",
   "execution_count": 2,
   "metadata": {},
   "outputs": [
    {
     "name": "stdout",
     "output_type": "stream",
     "text": [
      "Populating the interactive namespace from numpy and matplotlib\n"
     ]
    }
   ],
   "source": [
    "%pylab inline\n",
    "import time\n",
    "import pandas\n",
    "import numpy\n",
    "import seaborn\n",
    "\n",
    "from pprint import pprint\n",
    "from sklearn.svm import SVC\n",
    "from sklearn.cluster import KMeans\n",
    "from sklearn.preprocessing import StandardScaler, MinMaxScaler\n",
    "from sklearn.pipeline import Pipeline\n",
    "from sklearn.decomposition import PCA\n",
    "from sklearn.grid_search import GridSearchCV\n",
    "from sklearn.metrics.pairwise import chi2_kernel\n",
    "from sklearn.cross_validation import cross_val_score, StratifiedKFold\n",
    "from sklearn.metrics import confusion_matrix, classification_report, accuracy_score\n",
    "\n",
    "seaborn.set_palette(\"deep\", desat=0.6)\n",
    "seaborn.set_context(rc={'figure.figsize': (15, 12)})\n",
    "\n",
    "from load_data import read_cross_data, banked_suffix\n",
    "from conf_plot import plot_confusion_mat"
   ]
  },
  {
   "cell_type": "code",
   "execution_count": 3,
   "metadata": {},
   "outputs": [],
   "source": [
    "%%bash\n",
    "rm -rf ../data/ucf101_bank/\n",
    "tar -xf ../../3rdparty/action_bank/ucf101_bank.tar.gz -C ../data/"
   ]
  },
  {
   "cell_type": "code",
   "execution_count": 2,
   "metadata": {},
   "outputs": [],
   "source": [
    "%%bash\n",
    "rm -rf ../data/ucf101-splits/\n",
    "wget http://crcv.ucf.edu/data/UCF101/UCF101TrainTestSplits-RecognitionTask.zip -P ../data/\n",
    "unzip ../data/UCF101TrainTestSplits-RecognitionTask.zip -d ../data/\n",
    "mv ../data/ucfTrainTestlist/ ../data/ucf101-splits/\n",
    "rm -f ../data/UCF101TrainTestSplits-RecognitionTask.zip"
   ]
  },
  {
   "cell_type": "code",
   "execution_count": 5,
   "metadata": {},
   "outputs": [],
   "source": [
    "import shutil\n",
    "x = %pwd\n",
    "abs_path = x[:x.rfind(\"/\")]\n",
    "def split_ucf101_data(txt_file, train_test='test'):\n",
    "    \"\"\"Splits the UCF101 data for train and test\n",
    "\n",
    "    Parameters\n",
    "    ----------\n",
    "    path\n",
    "\n",
    "    Returns\n",
    "    -------\n",
    "\n",
    "    \"\"\"\n",
    "    labels = []\n",
    "    contents = []\n",
    "\n",
    "    # Read line by lines\n",
    "    with open(txt_file) as f:\n",
    "        for line in f.readlines():\n",
    "            # Append file line without return key or\n",
    "            temp = line.rsplit(\" \", 1)[0]\n",
    "            filename = temp.rsplit(\"\\n\", 1)[0].rsplit(\"\\r\", 1)[0] + banked_suffix\n",
    "            \n",
    "            out_dir = abs_path + \"/data/ucf101_bank/\"+train_test+\"/\"+filename.split(\"/\")[0]\n",
    "            if not os.path.exists(out_dir):\n",
    "                os.makedirs(out_dir)\n",
    "            \n",
    "            if os.path.isfile(abs_path + \"/data/ucf101_bank/\"+filename):\n",
    "                shutil.move(abs_path + \"/data/ucf101_bank/\"+filename,\n",
    "                            abs_path + \"/data/ucf101_bank/\"+train_test+\"/\"+filename)\n",
    "            else:\n",
    "                print \"file: {} -- doesnot exist, file not moved\".format(filename)"
   ]
  },
  {
   "cell_type": "code",
   "execution_count": 6,
   "metadata": {},
   "outputs": [
    {
     "name": "stdout",
     "output_type": "stream",
     "text": [
      "Moving test-set files ...\n",
      "Moving train-set files ...\n"
     ]
    }
   ],
   "source": [
    "# Move test files\n",
    "print \"Moving test-set files ...\"\n",
    "split_ucf101_data(\"../data/ucf101-splits/testlist01.txt\", 'test')\n",
    "\n",
    "# Move train files\n",
    "print \"Moving train-set files ...\"\n",
    "split_ucf101_data(\"../data/ucf101-splits/trainlist01.txt\", 'train')"
   ]
  },
  {
   "cell_type": "markdown",
   "metadata": {},
   "source": [
    "## Purpose\n",
    "The purpose of this notebook is to quantify [Action bank](http://www.cse.buffalo.edu/~jcorso/r/actionbank/) features  for `action recognition` using the [UCF101](http://crcv.ucf.edu/data/UCF101.php) dataset. \n",
    "\n",
    "### Action Bank \n",
    "The [Action bank](http://www.cse.buffalo.edu/~jcorso/r/actionbank/) algorithim gerenates spatio-temporal features, which capture characteristic shape and motion from video data. A video is represented as a collection of many action detectors that each produce a correlation volume. Template-based action detectors are the primary element of action bank recognition. \n",
    "\n",
    "### Action recognition pipeline \n",
    "The standard framework for evaluating spatio-temporal features for action recognition, involves constructing a **BoW** histogram of spatio-temporal features before applying a classifier. The spatio-temporal features\n",
    "features are first quantized into visual words and a video is then represented as the\n",
    "frequency histogram over the visual words.\n",
    "<img src=\"../images/vid_bow.png\" alt=\"action_pipeline\" style=\"width: 600px;\"/>\n",
    "\n",
    "[Wang2009](http://www.irisa.fr/vista/Papers/2009_bmvc_wang.pdf) constructed vocabularies using *k*-means clustering, and set the number of visual words $V$ to $4 000$. The resulting histograms of visual word occurrences are used as to represent the video sequence. Features are assigned to their closest vocabulary word using Euclidean distance. To increase precision, [Wang2009](http://www.irisa.fr/vista/Papers/2009_bmvc_wang.pdf) initialised *k*-means 8 times and keep the result with the lowest error. To classify the features, a non-linear support vector machine with a $\\chi^2$-kernel is. . The resulting histograms of visual\n",
    "word occurrences are used as video sequence representations\n",
    "\n",
    "**Date: 06-02-2016**"
   ]
  },
  {
   "cell_type": "markdown",
   "metadata": {
    "collapsed": true
   },
   "source": [
    "## Experimental Evaluation\n",
    "### Building [Action bank](http://www.cse.buffalo.edu/~jcorso/r/actionbank/) templates\n",
    "The [action bank](http://www.cse.buffalo.edu/~jcorso/r/actionbank/) templates used for all experiments consists of 205 template actions, and six action templates (e.g. `clap4`, `violin6`, `soccer3`, `jog right4`, `polevault4`, `ski4`, `basketball2`, and `hula4`) extracted from the UCF51 dataset. The action templates have an average spatial\n",
    "resolution of approximately $50\\times 120$ pixels and a temporal length of $40 - 50$ frames; each template is cropped spatially to cover the extent of the human motion within it. \n",
    "\n",
    "### Evaluation\n",
    "The [UCF101](http://crcv.ucf.edu/data/UCF101.php) dataset contain 3 train-test splits. For the purposes of this eperiment `split1`. Instead of the $\\chi^2$-kernel a `LinearSVM` is used as in the paper. The evaluation consists of four experimental pipelines tests,\n",
    "\n",
    "1. Features - `LinearSVM`\n",
    "2. Features - Stanadrd normalisation - `LinearSVM`\n",
    "3. Features - Stanadrd normalisation - KMeans **BoW** - `LinearSVM`\n",
    "3. Features - Stanadrd normalisation - PCA - `LinearSVM`\n",
    "\n",
    "An `accuracy` score is used as the perfomance measure."
   ]
  },
  {
   "cell_type": "markdown",
   "metadata": {},
   "source": [
    "## Experimental Results"
   ]
  },
  {
   "cell_type": "markdown",
   "metadata": {},
   "source": [
    "### Examining the features\n",
    "The [Action bank](http://www.cse.buffalo.edu/~jcorso/r/actionbank/) features on the [UCF101](http://crcv.ucf.edu/data/UCF101.php) dataset were extacted before hand using the code provided [here](http://www.cse.buffalo.edu/~jcorso/r/actionbank/). The [Action bank](http://www.cse.buffalo.edu/~jcorso/r/actionbank/) features lie in the range $(0, 255)$."
   ]
  },
  {
   "cell_type": "code",
   "execution_count": 7,
   "metadata": {},
   "outputs": [
    {
     "name": "stdout",
     "output_type": "stream",
     "text": [
      "\r",
      "Loading UCF101 action bank train datavector length is 14965\n"
     ]
    }
   ],
   "source": [
    "sys.stdout.write(\"\\rLoading UCF101 action bank train data\")\n",
    "X, Y, folders = read_cross_data('../data/ucf101_bank/train/')"
   ]
  },
  {
   "cell_type": "code",
   "execution_count": 8,
   "metadata": {},
   "outputs": [
    {
     "name": "stdout",
     "output_type": "stream",
     "text": [
      "Max summary statistics for the UCF101 train data"
     ]
    },
    {
     "data": {
      "text/plain": [
       "count    9537.00000\n",
       "mean      224.98228\n",
       "std        86.65980\n",
       "min        75.00000\n",
       "25%       218.00000\n",
       "50%       238.00000\n",
       "75%       246.00000\n",
       "max       255.00000\n",
       "dtype: float64"
      ]
     },
     "execution_count": 8,
     "metadata": {},
     "output_type": "execute_result"
    }
   ],
   "source": [
    "sys.stdout.write(\"Max summary statistics for the UCF101 train data\")\n",
    "pandas.DataFrame(X).describe().max(axis=1)"
   ]
  },
  {
   "cell_type": "code",
   "execution_count": 9,
   "metadata": {},
   "outputs": [
    {
     "name": "stdout",
     "output_type": "stream",
     "text": [
      "\r",
      "The UCF101 action bank test data has:\n",
      "Samples\t\t9537\n",
      "Features\t14965\n",
      "Labels\t\t['ApplyEyeMakeup', 'ApplyLipstick', 'Archery', 'BabyCrawling', 'BalanceBeam', 'BandMarching', 'BaseballPitch', 'Basketball', 'BasketballDunk', 'BenchPress', 'Biking', 'Billiards', 'BlowDryHair', 'BlowingCandles', 'BodyWeightSquats', 'Bowling', 'BoxingPunchingBag', 'BoxingSpeedBag', 'BrushingTeeth', 'CleanAndJerk', 'CliffDiving', 'CricketBowling', 'CricketShot', 'CuttingInKitchen', 'Diving', 'Drumming', 'Fencing', 'FieldHockeyPenalty', 'FloorGymnastics', 'FrisbeeCatch', 'FrontCrawl', 'GolfSwing', 'Haircut', 'Hammering', 'HammerThrow', 'HandstandPushups', 'HeadMassage', 'HighJump', 'HorseRace', 'HorseRiding', 'HulaHoop', 'IceDancing', 'JavelinThrow', 'JugglingBalls', 'JumpingJack', 'JumpRope', 'Kayaking', 'Knitting', 'LongJump', 'Lunges', 'MilitaryParade', 'Mixing', 'MoppingFloor', 'Nunchucks', 'PizzaTossing', 'PlayingCello', 'PlayingDaf', 'PlayingDhol', 'PlayingFlute', 'PlayingGuitar', 'PlayingPiano', 'PlayingSitar', 'PlayingTabla', 'PlayingViolin', 'PoleVault', 'PommelHorse', 'PullUps', 'Punch', 'PushUps', 'Rafting', 'RockClimbingIndoor', 'RopeClimbing', 'Rowing', 'BreastStroke', 'HandstandWalking', 'ParallelBars', 'SalsaSpin', 'ShavingBeard', 'Shotput', 'SkateBoarding', 'Skiing', 'Skijet', 'SkyDiving', 'SoccerJuggling', 'SoccerPenalty', 'StillRings', 'SumoWrestling', 'Surfing', 'Swing', 'TableTennisShot', 'TaiChi', 'TennisSwing', 'ThrowDiscus', 'TrampolineJumping', 'Typing', 'UnevenBars', 'VolleyballSpiking', 'WalkingWithDog', 'WallPushups', 'WritingOnBoard', 'YoYo']"
     ]
    }
   ],
   "source": [
    "sys.stdout.write(\"\\rThe UCF101 action bank test data has:\\nSamples\\t\\t{0}\"\\\n",
    "                 \"\\nFeatures\\t{1}\\nLabels\\t\\t{2}\".format(X.shape[0], X.shape[1], folders))"
   ]
  },
  {
   "cell_type": "code",
   "execution_count": 10,
   "metadata": {},
   "outputs": [
    {
     "name": "stdout",
     "output_type": "stream",
     "text": [
      "\r",
      "Loading UCF101 action bank test datavector length is 14965\n"
     ]
    }
   ],
   "source": [
    "sys.stdout.write(\"\\rLoading UCF101 action bank test data\")\n",
    "X_test, Y_test, _ = read_cross_data('../data/ucf101_bank/test/')"
   ]
  },
  {
   "cell_type": "code",
   "execution_count": 11,
   "metadata": {},
   "outputs": [
    {
     "name": "stdout",
     "output_type": "stream",
     "text": [
      "\r",
      "The UCF101 action bank test data has:\n",
      "Samples\t\t3783\n",
      "Features\t14965"
     ]
    }
   ],
   "source": [
    "sys.stdout.write(\"\\rThe UCF101 action bank test data has:\\nSamples\\t\\t{0}\"\\\n",
    "                 \"\\nFeatures\\t{1}\".format(X_test.shape[0], X_test.shape[1]))"
   ]
  },
  {
   "cell_type": "markdown",
   "metadata": {},
   "source": [
    "### Features - LinearSVM pipeline\n",
    "The raw extracted fatures are passed to the `LinearSVM` without any preprocessing."
   ]
  },
  {
   "cell_type": "code",
   "execution_count": 12,
   "metadata": {},
   "outputs": [
    {
     "name": "stdout",
     "output_type": "stream",
     "text": [
      "Training model ...\n",
      "pipeline: ['SVM']\n",
      "Time taken 00:11:41\n",
      "Time taken 00:07:29\n"
     ]
    }
   ],
   "source": [
    "print \"Training model ...\"    \n",
    "\n",
    "## Model train and test\n",
    "pl = Pipeline(steps=[\n",
    "        ('SVM', SVC(kernel='linear'))\n",
    "    ])\n",
    "\n",
    "print \"pipeline:\", [name for name, _ in pl.steps]\n",
    "    \n",
    "start = time.time()\n",
    "pl.fit(X=X, y=Y)\n",
    "print \"Time taken {0}\".format(time.strftime(\"%H:%M:%S\", time.gmtime(time.time() - start)))\n",
    "                     \n",
    "cls_01 = pl\n",
    "start = time.time()\n",
    "pred_01= pl.predict(X=X_test)\n",
    "print \"Time taken {0}\".format(time.strftime(\"%H:%M:%S\", time.gmtime(time.time() - start))) "
   ]
  },
  {
   "cell_type": "code",
   "execution_count": 13,
   "metadata": {
    "scrolled": true
   },
   "outputs": [
    {
     "name": "stdout",
     "output_type": "stream",
     "text": [
      "             precision    recall  f1-score   support\n",
      "\n",
      "        0.0       0.18      0.20      0.19        44\n",
      "        1.0       0.25      0.38      0.30        32\n",
      "        2.0       0.00      0.00      0.00        41\n",
      "        3.0       0.06      0.11      0.08        35\n",
      "        4.0       0.69      0.58      0.63        31\n",
      "        5.0       0.24      0.28      0.26        43\n",
      "        6.0       0.54      0.49      0.51        43\n",
      "        7.0       0.25      0.34      0.29        35\n",
      "        8.0       0.50      0.73      0.59        37\n",
      "        9.0       0.65      0.69      0.67        48\n",
      "       10.0       0.32      0.42      0.36        38\n",
      "       11.0       0.95      0.88      0.91        40\n",
      "       12.0       0.14      0.13      0.14        38\n",
      "       13.0       0.20      0.39      0.27        33\n",
      "       14.0       0.49      0.63      0.55        30\n",
      "       15.0       0.57      0.58      0.57        43\n",
      "       16.0       0.22      0.29      0.25        49\n",
      "       17.0       0.46      0.35      0.40        37\n",
      "       18.0       0.03      0.03      0.03        36\n",
      "       19.0       0.83      0.61      0.70        33\n",
      "       20.0       0.52      0.69      0.59        39\n",
      "       21.0       0.31      0.36      0.33        36\n",
      "       22.0       0.23      0.27      0.25        49\n",
      "       23.0       0.22      0.18      0.20        33\n",
      "       24.0       0.47      0.60      0.53        45\n",
      "       25.0       0.60      0.53      0.56        45\n",
      "       26.0       0.36      0.47      0.41        34\n",
      "       27.0       0.22      0.20      0.21        40\n",
      "       28.0       0.40      0.58      0.48        36\n",
      "       29.0       0.35      0.49      0.40        37\n",
      "       30.0       0.24      0.24      0.24        37\n",
      "       31.0       0.53      0.46      0.49        39\n",
      "       32.0       0.21      0.18      0.19        33\n",
      "       33.0       0.03      0.03      0.03        33\n",
      "       34.0       0.44      0.49      0.46        45\n",
      "       35.0       0.24      0.21      0.23        28\n",
      "       36.0       0.14      0.15      0.14        41\n",
      "       37.0       0.48      0.27      0.34        37\n",
      "       38.0       0.35      0.23      0.28        35\n",
      "       39.0       0.49      0.63      0.55        49\n",
      "       40.0       0.29      0.35      0.32        34\n",
      "       41.0       0.82      0.87      0.84        46\n",
      "       42.0       0.25      0.23      0.24        31\n",
      "       43.0       0.51      0.65      0.57        40\n",
      "       44.0       1.00      0.92      0.96        37\n",
      "       45.0       0.77      0.63      0.70        38\n",
      "       46.0       0.21      0.22      0.22        36\n",
      "       47.0       0.53      0.71      0.61        34\n",
      "       48.0       0.52      0.56      0.54        39\n",
      "       49.0       0.63      0.32      0.43        37\n",
      "       50.0       0.45      0.39      0.42        33\n",
      "       51.0       0.53      0.20      0.29        45\n",
      "       52.0       0.10      0.09      0.10        34\n",
      "       53.0       0.28      0.31      0.30        35\n",
      "       54.0       0.10      0.15      0.12        33\n",
      "       55.0       0.31      0.25      0.28        44\n",
      "       56.0       0.38      0.44      0.40        41\n",
      "       57.0       0.51      0.43      0.47        49\n",
      "       58.0       0.28      0.21      0.24        48\n",
      "       59.0       0.63      0.79      0.70        43\n",
      "       60.0       0.61      0.61      0.61        28\n",
      "       61.0       0.50      0.25      0.33        44\n",
      "       62.0       0.19      0.19      0.19        31\n",
      "       63.0       0.35      0.39      0.37        28\n",
      "       64.0       0.52      0.30      0.38        40\n",
      "       65.0       0.70      0.46      0.55        35\n",
      "       66.0       0.79      0.54      0.64        28\n",
      "       67.0       0.66      0.59      0.62        39\n",
      "       68.0       0.55      0.37      0.44        30\n",
      "       69.0       0.40      0.57      0.47        28\n",
      "       70.0       0.54      0.61      0.57        41\n",
      "       71.0       0.38      0.38      0.38        34\n",
      "       72.0       0.38      0.58      0.46        36\n",
      "       73.0       0.17      0.18      0.18        28\n",
      "       74.0       0.06      0.03      0.04        34\n",
      "       75.0       0.57      0.46      0.51        37\n",
      "       76.0       0.47      0.51      0.49        43\n",
      "       77.0       0.14      0.19      0.16        43\n",
      "       78.0       0.35      0.28      0.31        46\n",
      "       79.0       0.61      0.44      0.51        32\n",
      "       80.0       0.13      0.10      0.11        40\n",
      "       81.0       0.56      0.32      0.41        28\n",
      "       82.0       0.36      0.32      0.34        31\n",
      "       83.0       0.22      0.28      0.25        39\n",
      "       84.0       0.62      0.56      0.59        41\n",
      "       85.0       0.65      0.62      0.63        32\n",
      "       86.0       0.37      0.29      0.33        34\n",
      "       87.0       0.62      0.64      0.63        33\n",
      "       88.0       0.26      0.29      0.27        42\n",
      "       89.0       0.33      0.23      0.27        39\n",
      "       90.0       0.45      0.46      0.46        28\n",
      "       91.0       0.12      0.14      0.13        49\n",
      "       92.0       0.44      0.45      0.44        38\n",
      "       93.0       0.41      0.28      0.33        32\n",
      "       94.0       0.28      0.19      0.22        43\n",
      "       95.0       0.76      0.46      0.58        28\n",
      "       96.0       0.22      0.26      0.24        35\n",
      "       97.0       0.43      0.33      0.38        36\n",
      "       98.0       0.10      0.03      0.04        35\n",
      "       99.0       0.29      0.31      0.30        45\n",
      "      100.0       0.50      0.31      0.38        36\n",
      "\n",
      "avg / total       0.40      0.39      0.39      3783\n",
      "\n"
     ]
    }
   ],
   "source": [
    "print classification_report(y_pred=pred_01, y_true=Y_test)"
   ]
  },
  {
   "cell_type": "code",
   "execution_count": 14,
   "metadata": {},
   "outputs": [
    {
     "name": "stdout",
     "output_type": "stream",
     "text": [
      "Average accuracy on the UCF101 dataset: 38.6730\n"
     ]
    }
   ],
   "source": [
    "print \"Average accuracy on the UCF101 dataset: {0:.4f}\".format(accuracy_score(y_true=Y_test, y_pred=pred_01) * 100.)"
   ]
  },
  {
   "cell_type": "markdown",
   "metadata": {},
   "source": [
    "#### Observations\n",
    "The accuracy of $38.67\\%$ is below the baseline accuracy of $43.9\\%$ achieved by [Soomro2012](http://crcv.ucf.edu/papers/cvpr2009_liu1.pdf), and it is well below the best $76.95\\%$ `flow` model accuracy achieved by [Donahue2014](http://arxiv.org/pdf/1411.4389v3.pdf). [Donahue2014](http://arxiv.org/pdf/1411.4389v3.pdf) were able to increase their perfomance to $86.4\\%$ by weighting their `RGB` and `flow` models. The difference in perfomace highlights the differene between hard-wired feature extraction and learned feature extraction."
   ]
  },
  {
   "cell_type": "markdown",
   "metadata": {},
   "source": [
    "### Features - Standard normalisation - LinearSVM pipeline\n",
    "The features are first normalised with respect to the `mean` and `variance`."
   ]
  },
  {
   "cell_type": "code",
   "execution_count": 15,
   "metadata": {},
   "outputs": [
    {
     "name": "stdout",
     "output_type": "stream",
     "text": [
      "Training model ...\n",
      "pipeline: ['StdScaler', 'SVM']\n",
      "Time taken 00:12:01\n",
      "Time taken 00:07:32\n"
     ]
    }
   ],
   "source": [
    "print \"Training model ...\"       \n",
    "\n",
    "## Model train and test\n",
    "pl = Pipeline(steps=[\n",
    "        ('StdScaler', StandardScaler(with_mean=True, with_std=True)),\n",
    "        ('SVM', SVC(kernel='linear'))\n",
    "    ])\n",
    "\n",
    "print \"pipeline:\", [name for name, _ in pl.steps]\n",
    "    \n",
    "start = time.time()\n",
    "pl.fit(X=X.astype('float32'), y=Y)\n",
    "print \"Time taken {0}\".format(time.strftime(\"%H:%M:%S\", time.gmtime(time.time() - start)))\n",
    "                     \n",
    "cls_02 = pl\n",
    "start = time.time()\n",
    "pred_02= pl.predict(X=X_test.astype('float32'))\n",
    "print \"Time taken {0}\".format(time.strftime(\"%H:%M:%S\", time.gmtime(time.time() - start)))"
   ]
  },
  {
   "cell_type": "code",
   "execution_count": 16,
   "metadata": {
    "scrolled": true
   },
   "outputs": [
    {
     "name": "stdout",
     "output_type": "stream",
     "text": [
      "             precision    recall  f1-score   support\n",
      "\n",
      "        0.0       0.15      0.20      0.17        44\n",
      "        1.0       0.24      0.38      0.29        32\n",
      "        2.0       0.04      0.02      0.03        41\n",
      "        3.0       0.12      0.17      0.14        35\n",
      "        4.0       0.59      0.55      0.57        31\n",
      "        5.0       0.20      0.26      0.22        43\n",
      "        6.0       0.56      0.47      0.51        43\n",
      "        7.0       0.30      0.40      0.35        35\n",
      "        8.0       0.57      0.76      0.65        37\n",
      "        9.0       0.74      0.73      0.74        48\n",
      "       10.0       0.33      0.39      0.36        38\n",
      "       11.0       0.91      0.80      0.85        40\n",
      "       12.0       0.17      0.18      0.18        38\n",
      "       13.0       0.17      0.36      0.23        33\n",
      "       14.0       0.55      0.70      0.62        30\n",
      "       15.0       0.52      0.53      0.53        43\n",
      "       16.0       0.19      0.20      0.20        49\n",
      "       17.0       0.41      0.32      0.36        37\n",
      "       18.0       0.04      0.03      0.03        36\n",
      "       19.0       0.92      0.67      0.77        33\n",
      "       20.0       0.47      0.64      0.54        39\n",
      "       21.0       0.34      0.36      0.35        36\n",
      "       22.0       0.32      0.45      0.37        49\n",
      "       23.0       0.30      0.24      0.27        33\n",
      "       24.0       0.50      0.53      0.52        45\n",
      "       25.0       0.60      0.56      0.57        45\n",
      "       26.0       0.43      0.62      0.51        34\n",
      "       27.0       0.21      0.15      0.17        40\n",
      "       28.0       0.36      0.56      0.43        36\n",
      "       29.0       0.31      0.46      0.37        37\n",
      "       30.0       0.26      0.22      0.24        37\n",
      "       31.0       0.63      0.49      0.55        39\n",
      "       32.0       0.32      0.24      0.28        33\n",
      "       33.0       0.02      0.03      0.03        33\n",
      "       34.0       0.51      0.44      0.48        45\n",
      "       35.0       0.25      0.25      0.25        28\n",
      "       36.0       0.24      0.20      0.21        41\n",
      "       37.0       0.30      0.24      0.27        37\n",
      "       38.0       0.45      0.29      0.35        35\n",
      "       39.0       0.50      0.71      0.59        49\n",
      "       40.0       0.30      0.35      0.32        34\n",
      "       41.0       0.89      0.87      0.88        46\n",
      "       42.0       0.24      0.26      0.25        31\n",
      "       43.0       0.58      0.62      0.60        40\n",
      "       44.0       1.00      0.95      0.97        37\n",
      "       45.0       0.67      0.58      0.62        38\n",
      "       46.0       0.26      0.28      0.27        36\n",
      "       47.0       0.48      0.65      0.55        34\n",
      "       48.0       0.65      0.51      0.57        39\n",
      "       49.0       0.65      0.35      0.46        37\n",
      "       50.0       0.39      0.42      0.41        33\n",
      "       51.0       0.67      0.18      0.28        45\n",
      "       52.0       0.06      0.06      0.06        34\n",
      "       53.0       0.24      0.26      0.25        35\n",
      "       54.0       0.10      0.15      0.12        33\n",
      "       55.0       0.22      0.23      0.22        44\n",
      "       56.0       0.45      0.59      0.51        41\n",
      "       57.0       0.48      0.33      0.39        49\n",
      "       58.0       0.20      0.15      0.17        48\n",
      "       59.0       0.82      0.77      0.80        43\n",
      "       60.0       0.56      0.79      0.66        28\n",
      "       61.0       0.33      0.23      0.27        44\n",
      "       62.0       0.31      0.35      0.33        31\n",
      "       63.0       0.46      0.57      0.51        28\n",
      "       64.0       0.56      0.38      0.45        40\n",
      "       65.0       0.59      0.57      0.58        35\n",
      "       66.0       0.78      0.50      0.61        28\n",
      "       67.0       0.57      0.64      0.60        39\n",
      "       68.0       0.58      0.37      0.45        30\n",
      "       69.0       0.35      0.54      0.42        28\n",
      "       70.0       0.48      0.61      0.54        41\n",
      "       71.0       0.43      0.47      0.45        34\n",
      "       72.0       0.33      0.47      0.39        36\n",
      "       73.0       0.10      0.11      0.10        28\n",
      "       74.0       0.38      0.09      0.14        34\n",
      "       75.0       0.66      0.51      0.58        37\n",
      "       76.0       0.47      0.58      0.52        43\n",
      "       77.0       0.16      0.23      0.19        43\n",
      "       78.0       0.36      0.26      0.30        46\n",
      "       79.0       0.59      0.41      0.48        32\n",
      "       80.0       0.16      0.10      0.12        40\n",
      "       81.0       0.47      0.29      0.36        28\n",
      "       82.0       0.44      0.35      0.39        31\n",
      "       83.0       0.29      0.31      0.30        39\n",
      "       84.0       0.63      0.63      0.63        41\n",
      "       85.0       0.62      0.66      0.64        32\n",
      "       86.0       0.36      0.26      0.31        34\n",
      "       87.0       0.52      0.52      0.52        33\n",
      "       88.0       0.25      0.26      0.26        42\n",
      "       89.0       0.38      0.26      0.31        39\n",
      "       90.0       0.44      0.50      0.47        28\n",
      "       91.0       0.12      0.12      0.12        49\n",
      "       92.0       0.42      0.50      0.46        38\n",
      "       93.0       0.44      0.44      0.44        32\n",
      "       94.0       0.27      0.19      0.22        43\n",
      "       95.0       0.75      0.54      0.63        28\n",
      "       96.0       0.37      0.31      0.34        35\n",
      "       97.0       0.37      0.39      0.38        36\n",
      "       98.0       0.43      0.17      0.24        35\n",
      "       99.0       0.31      0.27      0.29        45\n",
      "      100.0       0.41      0.31      0.35        36\n",
      "\n",
      "avg / total       0.41      0.40      0.40      3783\n",
      "\n"
     ]
    }
   ],
   "source": [
    "print classification_report(y_pred=pred_02, y_true=Y_test)"
   ]
  },
  {
   "cell_type": "code",
   "execution_count": 17,
   "metadata": {},
   "outputs": [
    {
     "name": "stdout",
     "output_type": "stream",
     "text": [
      "Average accuracy on the UCF101 dataset: 39.9154\n"
     ]
    }
   ],
   "source": [
    "print \"Average accuracy on the UCF101 dataset: {0:.4f}\".format(accuracy_score(y_true=Y_test, y_pred=pred_02) * 100.)"
   ]
  },
  {
   "cell_type": "markdown",
   "metadata": {},
   "source": [
    "#### Observations\n",
    "The standardising the features increases the accuracy to $39.91\\%$, which is still below the baseline accuracy of $43.9\\%$ achieved by [Soomro2012](http://crcv.ucf.edu/papers/cvpr2009_liu1.pdf). Looking at the classification report `label` $44$ (`JugglingBalls`) and $11$ (`Biking`) have a very high `f1-score`. "
   ]
  },
  {
   "cell_type": "markdown",
   "metadata": {},
   "source": [
    "### Features - standard normalisation - KMeans BoW - LinearSVM pipeline\n",
    "The features are first standardised normalised using the training set `mean`, then a `kmeans` **BoW** model with a dictionary of $4000$ is created before a `LinearSVM` is applied."
   ]
  },
  {
   "cell_type": "code",
   "execution_count": 18,
   "metadata": {},
   "outputs": [
    {
     "name": "stdout",
     "output_type": "stream",
     "text": [
      "Training model ...\n",
      "pipeline: ['StdScaler', 'KMeansCluster', 'SVM']\n",
      "Time taken 04:08:47\n",
      "Time taken 00:02:05\n"
     ]
    }
   ],
   "source": [
    "print \"Training model ...\"   \n",
    "\n",
    "## Model train and test\n",
    "pl = Pipeline(steps=[\n",
    "        ('StdScaler', StandardScaler(with_mean=True)),\n",
    "        ('KMeansCluster', KMeans(n_clusters=4000, n_init=8, n_jobs=8)),\n",
    "        ('SVM', SVC(kernel='linear'))\n",
    "    ])\n",
    "\n",
    "print \"pipeline:\", [name for name, _ in pl.steps]\n",
    "    \n",
    "start = time.time()\n",
    "pl.fit(X=X.astype('float32'), y=Y)\n",
    "print \"Time taken {0}\".format(time.strftime(\"%H:%M:%S\", time.gmtime(time.time() - start)))\n",
    "                     \n",
    "cls_03 = pl\n",
    "start = time.time()\n",
    "pred_03 = pl.predict(X=X_test.astype('float32'))\n",
    "print \"Time taken {0}\".format(time.strftime(\"%H:%M:%S\", time.gmtime(time.time() - start)))"
   ]
  },
  {
   "cell_type": "code",
   "execution_count": 19,
   "metadata": {
    "scrolled": true
   },
   "outputs": [
    {
     "name": "stdout",
     "output_type": "stream",
     "text": [
      "             precision    recall  f1-score   support\n",
      "\n",
      "        0.0       0.13      0.25      0.17        44\n",
      "        1.0       0.11      0.19      0.14        32\n",
      "        2.0       0.04      0.02      0.03        41\n",
      "        3.0       0.08      0.14      0.10        35\n",
      "        4.0       0.42      0.35      0.39        31\n",
      "        5.0       0.16      0.26      0.19        43\n",
      "        6.0       0.34      0.33      0.33        43\n",
      "        7.0       0.11      0.11      0.11        35\n",
      "        8.0       0.34      0.59      0.44        37\n",
      "        9.0       0.59      0.67      0.63        48\n",
      "       10.0       0.22      0.32      0.26        38\n",
      "       11.0       0.78      0.70      0.74        40\n",
      "       12.0       0.06      0.08      0.07        38\n",
      "       13.0       0.21      0.39      0.27        33\n",
      "       14.0       0.33      0.33      0.33        30\n",
      "       15.0       0.38      0.35      0.36        43\n",
      "       16.0       0.07      0.08      0.07        49\n",
      "       17.0       0.37      0.35      0.36        37\n",
      "       18.0       0.00      0.00      0.00        36\n",
      "       19.0       0.53      0.55      0.54        33\n",
      "       20.0       0.49      0.62      0.55        39\n",
      "       21.0       0.17      0.19      0.18        36\n",
      "       22.0       0.32      0.22      0.27        49\n",
      "       23.0       0.17      0.21      0.19        33\n",
      "       24.0       0.44      0.40      0.42        45\n",
      "       25.0       0.40      0.27      0.32        45\n",
      "       26.0       0.20      0.29      0.24        34\n",
      "       27.0       0.09      0.05      0.06        40\n",
      "       28.0       0.24      0.33      0.28        36\n",
      "       29.0       0.24      0.30      0.27        37\n",
      "       30.0       0.26      0.24      0.25        37\n",
      "       31.0       0.45      0.46      0.46        39\n",
      "       32.0       0.19      0.21      0.20        33\n",
      "       33.0       0.00      0.00      0.00        33\n",
      "       34.0       0.42      0.40      0.41        45\n",
      "       35.0       0.23      0.18      0.20        28\n",
      "       36.0       0.11      0.12      0.12        41\n",
      "       37.0       0.30      0.22      0.25        37\n",
      "       38.0       0.25      0.20      0.22        35\n",
      "       39.0       0.41      0.59      0.49        49\n",
      "       40.0       0.24      0.32      0.28        34\n",
      "       41.0       0.62      0.72      0.67        46\n",
      "       42.0       0.22      0.26      0.24        31\n",
      "       43.0       0.42      0.45      0.43        40\n",
      "       44.0       0.81      0.81      0.81        37\n",
      "       45.0       0.65      0.45      0.53        38\n",
      "       46.0       0.21      0.25      0.23        36\n",
      "       47.0       0.38      0.50      0.43        34\n",
      "       48.0       0.46      0.33      0.39        39\n",
      "       49.0       0.47      0.22      0.30        37\n",
      "       50.0       0.24      0.24      0.24        33\n",
      "       51.0       0.57      0.29      0.38        45\n",
      "       52.0       0.02      0.03      0.03        34\n",
      "       53.0       0.22      0.23      0.22        35\n",
      "       54.0       0.03      0.03      0.03        33\n",
      "       55.0       0.22      0.25      0.23        44\n",
      "       56.0       0.23      0.32      0.27        41\n",
      "       57.0       0.39      0.14      0.21        49\n",
      "       58.0       0.18      0.15      0.16        48\n",
      "       59.0       0.77      0.70      0.73        43\n",
      "       60.0       0.63      0.61      0.62        28\n",
      "       61.0       0.21      0.11      0.15        44\n",
      "       62.0       0.10      0.13      0.11        31\n",
      "       63.0       0.28      0.29      0.28        28\n",
      "       64.0       0.29      0.17      0.22        40\n",
      "       65.0       0.50      0.37      0.43        35\n",
      "       66.0       0.56      0.32      0.41        28\n",
      "       67.0       0.56      0.59      0.57        39\n",
      "       68.0       0.30      0.23      0.26        30\n",
      "       69.0       0.19      0.36      0.24        28\n",
      "       70.0       0.45      0.44      0.44        41\n",
      "       71.0       0.35      0.35      0.35        34\n",
      "       72.0       0.24      0.33      0.28        36\n",
      "       73.0       0.14      0.11      0.12        28\n",
      "       74.0       0.11      0.03      0.05        34\n",
      "       75.0       0.33      0.30      0.31        37\n",
      "       76.0       0.26      0.21      0.23        43\n",
      "       77.0       0.09      0.09      0.09        43\n",
      "       78.0       0.30      0.30      0.30        46\n",
      "       79.0       0.34      0.31      0.33        32\n",
      "       80.0       0.12      0.10      0.11        40\n",
      "       81.0       0.32      0.21      0.26        28\n",
      "       82.0       0.26      0.23      0.24        31\n",
      "       83.0       0.27      0.23      0.25        39\n",
      "       84.0       0.46      0.41      0.44        41\n",
      "       85.0       0.71      0.62      0.67        32\n",
      "       86.0       0.19      0.21      0.20        34\n",
      "       87.0       0.35      0.33      0.34        33\n",
      "       88.0       0.18      0.24      0.21        42\n",
      "       89.0       0.19      0.13      0.15        39\n",
      "       90.0       0.38      0.43      0.40        28\n",
      "       91.0       0.00      0.00      0.00        49\n",
      "       92.0       0.30      0.32      0.31        38\n",
      "       93.0       0.23      0.25      0.24        32\n",
      "       94.0       0.19      0.07      0.10        43\n",
      "       95.0       0.69      0.32      0.44        28\n",
      "       96.0       0.25      0.29      0.27        35\n",
      "       97.0       0.20      0.17      0.18        36\n",
      "       98.0       0.10      0.06      0.07        35\n",
      "       99.0       0.28      0.24      0.26        45\n",
      "      100.0       0.38      0.39      0.38        36\n",
      "\n",
      "avg / total       0.30      0.29      0.29      3783\n",
      "\n"
     ]
    }
   ],
   "source": [
    "print classification_report(y_pred=pred_03, y_true=Y_test)"
   ]
  },
  {
   "cell_type": "code",
   "execution_count": 20,
   "metadata": {},
   "outputs": [
    {
     "name": "stdout",
     "output_type": "stream",
     "text": [
      "Average accuracy on the UCF101 dataset: 28.9717\n"
     ]
    }
   ],
   "source": [
    "print \"Average accuracy on the UCF101 dataset: {0:.4f}\".format(accuracy_score(y_true=Y_test, y_pred=pred_03) * 100.)"
   ]
  },
  {
   "cell_type": "markdown",
   "metadata": {},
   "source": [
    "#### Observations\n",
    "The constructing ac **BoW** models dramatically reduces the the accuracy to $28.97\\%$. One possible reason for this might be that the `kmeans` algorithm's initialisation was poor and thus convergence was at a poor location."
   ]
  },
  {
   "cell_type": "markdown",
   "metadata": {},
   "source": [
    "### Features - standard normalisation - PCA - LinearSVM pipeline\n",
    "The features are first standardised normalised using the training set `mean` and `variance`, then the features are `PCA` is applied to reduce the feature space from $14965$ to $4000$ before applying a `LinearSVM` classifier"
   ]
  },
  {
   "cell_type": "code",
   "execution_count": 21,
   "metadata": {},
   "outputs": [
    {
     "name": "stdout",
     "output_type": "stream",
     "text": [
      "Training model ...\n",
      "pipeline: ['StdScaler', 'PCA', 'SVM']\n",
      "Time taken 00:19:19\n",
      "Time taken 00:04:11\n"
     ]
    }
   ],
   "source": [
    "print \"Training model ...\"     \n",
    "\n",
    "## Model train and test\n",
    "pl = Pipeline(steps=[\n",
    "        ('StdScaler', StandardScaler(with_mean=True, with_std=True)),\n",
    "        ('PCA', PCA(n_components=8000)),\n",
    "        ('SVM', SVC(kernel='linear'))\n",
    "    ])\n",
    "\n",
    "print \"pipeline:\", [name for name, _ in pl.steps]\n",
    "    \n",
    "start = time.time()\n",
    "pl.fit(X=X.astype('float32'), y=Y)\n",
    "print \"Time taken {0}\".format(time.strftime(\"%H:%M:%S\", time.gmtime(time.time() - start)))\n",
    "                     \n",
    "cls_04 = pl\n",
    "start = time.time()\n",
    "pred_04 = pl.predict(X=X_test.astype('float32'))\n",
    "print \"Time taken {0}\".format(time.strftime(\"%H:%M:%S\", time.gmtime(time.time() - start)))"
   ]
  },
  {
   "cell_type": "code",
   "execution_count": 22,
   "metadata": {
    "scrolled": true
   },
   "outputs": [
    {
     "name": "stdout",
     "output_type": "stream",
     "text": [
      "             precision    recall  f1-score   support\n",
      "\n",
      "        0.0       0.15      0.20      0.17        44\n",
      "        1.0       0.24      0.38      0.29        32\n",
      "        2.0       0.04      0.02      0.03        41\n",
      "        3.0       0.12      0.17      0.14        35\n",
      "        4.0       0.59      0.55      0.57        31\n",
      "        5.0       0.20      0.26      0.22        43\n",
      "        6.0       0.56      0.47      0.51        43\n",
      "        7.0       0.30      0.40      0.35        35\n",
      "        8.0       0.57      0.76      0.65        37\n",
      "        9.0       0.74      0.73      0.74        48\n",
      "       10.0       0.33      0.39      0.36        38\n",
      "       11.0       0.91      0.80      0.85        40\n",
      "       12.0       0.17      0.18      0.18        38\n",
      "       13.0       0.17      0.36      0.23        33\n",
      "       14.0       0.55      0.70      0.62        30\n",
      "       15.0       0.52      0.53      0.53        43\n",
      "       16.0       0.19      0.20      0.20        49\n",
      "       17.0       0.41      0.32      0.36        37\n",
      "       18.0       0.04      0.03      0.03        36\n",
      "       19.0       0.92      0.67      0.77        33\n",
      "       20.0       0.47      0.64      0.54        39\n",
      "       21.0       0.34      0.36      0.35        36\n",
      "       22.0       0.32      0.45      0.37        49\n",
      "       23.0       0.30      0.24      0.27        33\n",
      "       24.0       0.50      0.53      0.52        45\n",
      "       25.0       0.60      0.56      0.57        45\n",
      "       26.0       0.43      0.62      0.51        34\n",
      "       27.0       0.21      0.15      0.17        40\n",
      "       28.0       0.36      0.56      0.43        36\n",
      "       29.0       0.31      0.46      0.37        37\n",
      "       30.0       0.26      0.22      0.24        37\n",
      "       31.0       0.63      0.49      0.55        39\n",
      "       32.0       0.32      0.24      0.28        33\n",
      "       33.0       0.02      0.03      0.03        33\n",
      "       34.0       0.53      0.47      0.49        45\n",
      "       35.0       0.25      0.25      0.25        28\n",
      "       36.0       0.24      0.20      0.21        41\n",
      "       37.0       0.30      0.24      0.27        37\n",
      "       38.0       0.45      0.29      0.35        35\n",
      "       39.0       0.50      0.71      0.59        49\n",
      "       40.0       0.30      0.35      0.32        34\n",
      "       41.0       0.89      0.87      0.88        46\n",
      "       42.0       0.24      0.26      0.25        31\n",
      "       43.0       0.58      0.62      0.60        40\n",
      "       44.0       1.00      0.95      0.97        37\n",
      "       45.0       0.67      0.58      0.62        38\n",
      "       46.0       0.26      0.28      0.27        36\n",
      "       47.0       0.48      0.65      0.55        34\n",
      "       48.0       0.65      0.51      0.57        39\n",
      "       49.0       0.65      0.35      0.46        37\n",
      "       50.0       0.39      0.42      0.41        33\n",
      "       51.0       0.67      0.18      0.28        45\n",
      "       52.0       0.06      0.06      0.06        34\n",
      "       53.0       0.24      0.26      0.25        35\n",
      "       54.0       0.10      0.15      0.12        33\n",
      "       55.0       0.22      0.23      0.22        44\n",
      "       56.0       0.45      0.59      0.51        41\n",
      "       57.0       0.48      0.33      0.39        49\n",
      "       58.0       0.20      0.15      0.17        48\n",
      "       59.0       0.82      0.77      0.80        43\n",
      "       60.0       0.56      0.79      0.66        28\n",
      "       61.0       0.33      0.23      0.27        44\n",
      "       62.0       0.31      0.35      0.33        31\n",
      "       63.0       0.47      0.57      0.52        28\n",
      "       64.0       0.56      0.38      0.45        40\n",
      "       65.0       0.59      0.57      0.58        35\n",
      "       66.0       0.78      0.50      0.61        28\n",
      "       67.0       0.57      0.64      0.60        39\n",
      "       68.0       0.58      0.37      0.45        30\n",
      "       69.0       0.35      0.54      0.42        28\n",
      "       70.0       0.48      0.61      0.54        41\n",
      "       71.0       0.43      0.47      0.45        34\n",
      "       72.0       0.33      0.47      0.39        36\n",
      "       73.0       0.10      0.11      0.10        28\n",
      "       74.0       0.33      0.09      0.14        34\n",
      "       75.0       0.66      0.51      0.58        37\n",
      "       76.0       0.46      0.58      0.52        43\n",
      "       77.0       0.16      0.23      0.19        43\n",
      "       78.0       0.36      0.26      0.30        46\n",
      "       79.0       0.59      0.41      0.48        32\n",
      "       80.0       0.16      0.10      0.12        40\n",
      "       81.0       0.47      0.29      0.36        28\n",
      "       82.0       0.44      0.35      0.39        31\n",
      "       83.0       0.29      0.31      0.30        39\n",
      "       84.0       0.63      0.63      0.63        41\n",
      "       85.0       0.62      0.66      0.64        32\n",
      "       86.0       0.36      0.26      0.31        34\n",
      "       87.0       0.52      0.52      0.52        33\n",
      "       88.0       0.25      0.26      0.26        42\n",
      "       89.0       0.38      0.26      0.31        39\n",
      "       90.0       0.44      0.50      0.47        28\n",
      "       91.0       0.12      0.12      0.12        49\n",
      "       92.0       0.42      0.50      0.46        38\n",
      "       93.0       0.44      0.44      0.44        32\n",
      "       94.0       0.27      0.19      0.22        43\n",
      "       95.0       0.75      0.54      0.63        28\n",
      "       96.0       0.37      0.31      0.34        35\n",
      "       97.0       0.37      0.39      0.38        36\n",
      "       98.0       0.38      0.14      0.21        35\n",
      "       99.0       0.31      0.27      0.29        45\n",
      "      100.0       0.41      0.31      0.35        36\n",
      "\n",
      "avg / total       0.41      0.40      0.40      3783\n",
      "\n"
     ]
    }
   ],
   "source": [
    "print classification_report(y_pred=pred_04, y_true=Y_test)"
   ]
  },
  {
   "cell_type": "code",
   "execution_count": 23,
   "metadata": {},
   "outputs": [
    {
     "name": "stdout",
     "output_type": "stream",
     "text": [
      "Average accuracy on the UCF101 dataset: 39.9154\n"
     ]
    }
   ],
   "source": [
    "print \"Average accuracy on the UCF101 dataset: {0:.4f}\".format(accuracy_score(y_true=Y_test, y_pred=pred_04) * 100.)"
   ]
  },
  {
   "cell_type": "markdown",
   "metadata": {},
   "source": [
    "#### Observations\n",
    "Adding `PCA` to the standard normalisation pipeline resulted in an `accuracy` score of $39.92\\%$, which is similar to the one achieved with the standard normalisation pipeline."
   ]
  },
  {
   "cell_type": "markdown",
   "metadata": {},
   "source": [
    "## Conclution"
   ]
  },
  {
   "cell_type": "markdown",
   "metadata": {},
   "source": [
    "The `notebook` examined [Action bank](http://www.cse.buffalo.edu/~jcorso/r/actionbank/) features for `action recognition` using the [UCF101](http://crcv.ucf.edu/data/UCF101.php) dataset using 4 different pipelines. `Action bank` were able to achieve the best `accuracy` score of $39.91\\%$ using the `Features - Stanadrd normalisation - LinearSVM` pipeline.\n",
    "\n",
    "The accuracy of $39.91\\%$ is below the baseline accuracy of $43.9\\%$ achieved by [Soomro2012](http://crcv.ucf.edu/papers/cvpr2009_liu1.pdf), and it is well below the best $76.95\\%$ `flow` model accuracy achieved by [Donahue2014](http://arxiv.org/pdf/1411.4389v3.pdf). [Donahue2014](http://arxiv.org/pdf/1411.4389v3.pdf) were able to increase their perfomance to $86.4\\%$ by weighting their `RGB` and `flow` models. The difference in perfomace highlights the differene between hard-wired feature extraction and learned feature extraction.\n",
    "\n",
    "[Action bank](http://www.cse.buffalo.edu/~jcorso/r/actionbank/) features don't scale well to `action recognition` datasets such as the [UCF101](http://crcv.ucf.edu/data/UCF101.php), where the videos are recorded in unconstrained environments and some clips include with camera motion, varying light conditions, and occlusions. This effect can also be seen in [Action bank](http://www.cse.buffalo.edu/~jcorso/r/actionbank/)'s performence on the [HMDB51](http://serre-lab.clps.brown.edu/resource/hmdb-a-large-human-motion-database/) dataset were an accuracy of $26.9\\%$ was achieved."
   ]
  },
  {
   "cell_type": "code",
   "execution_count": null,
   "metadata": {
    "collapsed": true
   },
   "outputs": [],
   "source": []
  }
 ],
 "metadata": {
  "kernelspec": {
   "display_name": "Python 2",
   "language": "python",
   "name": "python2"
  },
  "language_info": {
   "codemirror_mode": {
    "name": "ipython",
    "version": 3
   },
   "file_extension": ".py",
   "mimetype": "text/x-python",
   "name": "python",
   "nbconvert_exporter": "python",
   "pygments_lexer": "ipython3",
   "version": "3.5.2"
  }
 },
 "nbformat": 4,
 "nbformat_minor": 1
}
